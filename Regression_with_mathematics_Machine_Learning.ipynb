{
 "cells": [
  {
   "cell_type": "code",
   "execution_count": 1,
   "metadata": {},
   "outputs": [],
   "source": [
    "import random\n",
    "import matplotlib.pyplot as plt\n",
    "from statistics import mean\n",
    "import numpy as np"
   ]
  },
  {
   "cell_type": "code",
   "execution_count": 2,
   "metadata": {},
   "outputs": [],
   "source": [
    "'''Create your own database\n",
    "var=variance\n",
    "size=numer of rows\n",
    "corr=correlation (Pos,Neg,False)\n",
    "Step=add correlation to database'''\n",
    "\n",
    "def create_dataset(size,var,step=2,corr=False):\n",
    "    val=1\n",
    "    y=[]\n",
    "    current_size=0\n",
    "    while(current_size<size):\n",
    "        y.append(val+random.randint(-var,var))\n",
    "        current_size+=1\n",
    "        if corr=='pos':\n",
    "            val+=step\n",
    "        elif corr=='neg':\n",
    "            val-=step\n",
    "    x=[i for i in range(1,len(y)+1)]\n",
    "    return np.array(x),np.array(y)"
   ]
  },
  {
   "cell_type": "code",
   "execution_count": 3,
   "metadata": {},
   "outputs": [],
   "source": [
    "#Get slope and intercept for best fit line\n",
    "def fit_line_para(x,y):\n",
    "    m=( (mean(x)*mean(y))-(mean(x*y)) )/( (mean(x)**2)-mean(x**2) )\n",
    "    b=mean(y)-m*mean(x)\n",
    "    return m,b"
   ]
  },
  {
   "cell_type": "code",
   "execution_count": 4,
   "metadata": {},
   "outputs": [],
   "source": [
    "def sqr_error(y_orig,y_pred):\n",
    "    return sum((y_pred-y_orig)**2)\n",
    "\n",
    "#MSE\n",
    "def mean_sqr_error(y_orig,y_pred):\n",
    "    return sqr_error(y_orig,y_pred)/len(y_orig)\n",
    "\n",
    "#RMSE\n",
    "def root_mean_sqr_error(y_orig,y_pred):\n",
    "    return (mean_sqr_error(y_orig,y_pred))**0.5"
   ]
  },
  {
   "cell_type": "code",
   "execution_count": 314,
   "metadata": {},
   "outputs": [],
   "source": [
    "#Coefficient of Determination\n",
    "#r^2=1-(square_error(y)/square_error(y_mean))\n",
    "def coeff_of_determination(y_orig,y_pred):\n",
    "    y_mean=np.array([mean(y_orig) for i in y_orig])\n",
    "    y_line_error=sqr_error(y_orig,y_pred)\n",
    "    y_mean_error=sqr_error(y_orig,y_mean)\n",
    "    return 1-( y_line_error/y_mean_error )\n"
   ]
  },
  {
   "cell_type": "code",
   "execution_count": 413,
   "metadata": {},
   "outputs": [],
   "source": [
    "x,y=create_dataset(150,15,corr='pos') #creating database"
   ]
  },
  {
   "cell_type": "code",
   "execution_count": 414,
   "metadata": {},
   "outputs": [],
   "source": [
    "x_train,y_train,x_test,y_test=x[:int(len(x)*0.7)],y[:int(len(x)*0.7)],x[int(len(x)*0.7):len(x)],y[int(len(x)*0.7):len(x)]"
   ]
  },
  {
   "cell_type": "code",
   "execution_count": 415,
   "metadata": {},
   "outputs": [],
   "source": [
    "m,b=fit_line_para(x_train,y_train)\n",
    "def predict(x):\n",
    "    global m,b\n",
    "    return [m*i+b for i in x]"
   ]
  },
  {
   "cell_type": "code",
   "execution_count": 416,
   "metadata": {},
   "outputs": [],
   "source": [
    "y_pred=predict(x_test)"
   ]
  },
  {
   "cell_type": "code",
   "execution_count": 417,
   "metadata": {},
   "outputs": [],
   "source": [
    "accuracy=coeff_of_determination(y_test,np.array(y_pred))"
   ]
  },
  {
   "cell_type": "code",
   "execution_count": 418,
   "metadata": {},
   "outputs": [
    {
     "name": "stdout",
     "output_type": "stream",
     "text": [
      "MSE:  82.89299185340242 \n",
      "RMSE:  9.104558850015877\n"
     ]
    }
   ],
   "source": [
    "print(\"MSE: \",mean_sqr_error(y_test,y_pred),\"\\nRMSE: \",root_mean_sqr_error(y_test,y_pred))"
   ]
  },
  {
   "cell_type": "code",
   "execution_count": 419,
   "metadata": {},
   "outputs": [
    {
     "data": {
      "text/plain": [
       "[<matplotlib.lines.Line2D at 0xf8cd56bf98>]"
      ]
     },
     "execution_count": 419,
     "metadata": {},
     "output_type": "execute_result"
    },
    {
     "data": {
      "image/png": "[encoded data removed]",
      "text/plain": [
       "<Figure size 432x288 with 1 Axes>"
      ]
     },
     "metadata": {},
     "output_type": "display_data"
    }
   ],
   "source": [
    "plt.scatter(x_test,y_test)\n",
    "plt.plot(x_test,y_pred)"
   ]
  },
  {
   "cell_type": "code",
   "execution_count": 420,
   "metadata": {},
   "outputs": [],
   "source": [
    "#Best fit line from the sklearn library\n",
    "from sklearn.linear_model import LinearRegression"
   ]
  },
  {
   "cell_type": "code",
   "execution_count": 421,
   "metadata": {},
   "outputs": [
    {
     "data": {
      "text/plain": [
       "LinearRegression(copy_X=True, fit_intercept=True, n_jobs=1, normalize=False)"
      ]
     },
     "execution_count": 421,
     "metadata": {},
     "output_type": "execute_result"
    }
   ],
   "source": [
    "model=LinearRegression()\n",
    "model.fit(x_train.reshape(-1,1),y_train.reshape(-1,1))"
   ]
  },
  {
   "cell_type": "code",
   "execution_count": 422,
   "metadata": {},
   "outputs": [
    {
     "name": "stdout",
     "output_type": "stream",
     "text": [
      "Sklearn Model's accuracy:  0.8829527223727396 \n",
      "Manually Calculate accuracy:  0.8922503644414018\n"
     ]
    }
   ],
   "source": [
    "print(\"Sklearn Model's accuracy: \",model.score(x_test.reshape(-1,1),y_test.reshape(-1,1)),\"\\nManually Calculate accuracy: \",accuracy)"
   ]
  },
  {
   "cell_type": "code",
   "execution_count": 423,
   "metadata": {},
   "outputs": [
    {
     "data": {
      "text/plain": [
       "<matplotlib.collections.PathCollection at 0xf8cd5f6d68>"
      ]
     },
     "execution_count": 423,
     "metadata": {},
     "output_type": "execute_result"
    },
    {
     "data": {
      "image/png": "[encoded data removed]",
      "text/plain": [
       "<Figure size 432x288 with 1 Axes>"
      ]
     },
     "metadata": {},
     "output_type": "display_data"
    }
   ],
   "source": [
    "plt.plot(x_test,model.predict(x_test.reshape(-1,1)),c='r') #Sklearn Model's best fit line (RED)\n",
    "plt.plot(x_test,y_pred,c='g') #Manually calculated best fit line (GREEN)\n",
    "plt.scatter(x_test,y_test)"
   ]
  },
  {
   "cell_type": "code",
   "execution_count": null,
   "metadata": {},
   "outputs": [],
   "source": []
  }
 ],
 "metadata": {
  "kernelspec": {
   "display_name": "Python 3",
   "language": "python",
   "name": "python3"
  },
  "language_info": {
   "codemirror_mode": {
    "name": "ipython",
    "version": 3
   },
   "file_extension": ".py",
   "mimetype": "text/x-python",
   "name": "python",
   "nbconvert_exporter": "python",
   "pygments_lexer": "ipython3",
   "version": "3.6.4"
  }
 },
 "nbformat": 4,
 "nbformat_minor": 2
}
